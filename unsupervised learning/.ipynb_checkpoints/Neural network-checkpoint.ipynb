{
 "cells": [
  {
   "cell_type": "code",
   "execution_count": 1,
   "metadata": {},
   "outputs": [],
   "source": [
    "import torch\n",
    "from torchvision import transforms, datasets\n",
    "trainset = datasets.MNIST('', download=True, train=True, transform=transforms.ToTensor())\n",
    "testset = datasets.MNIST('', download=True, train=False, transform=transforms.ToTensor())\n",
    "from torch.utils.data import DataLoader\n",
    "train_loader = DataLoader(trainset, batch_size=64, shuffle=True)\n",
    "test_loader = DataLoader(testset, batch_size=64, shuffle=True)"
   ]
  },
  {
   "cell_type": "code",
   "execution_count": 2,
   "metadata": {},
   "outputs": [],
   "source": [
    "input_size = 784\n",
    "hidden_size = [256,128,64]\n",
    "output_size = 10\n",
    "import torch.nn as nn\n",
    "\n",
    "class NeuralNet(nn.Module):\n",
    "    def __init__(self, input_size, hidden_size, output_size):\n",
    "        super(NeuralNet, self).__init__()\n",
    "\n",
    "        # Inputs to hidden layer linear transformation\n",
    "        self.layer1 = nn.Linear(input_size, hidden_size[0])\n",
    "        # Hidden layer 1 to HL2 linear transformation\n",
    "        self.layer2 = nn.Linear(hidden_size[0], hidden_size[1])\n",
    "        # Hidden layer 2 to HL3 linear transformation\n",
    "        self.layer3 = nn.Linear(hidden_size[1], hidden_size[2])\n",
    "        # HL3 to output linear transformation\n",
    "        self.layer4 = nn.Linear(hidden_size[2], output_size)\n",
    "        \n",
    "\n",
    "        # Define relu activation and LogSoftmax output\n",
    "        self.sigmoid = nn.Sigmoid()\n",
    "        self.LogSoftmax = nn.LogSoftmax(dim=1)\n",
    "\n",
    "    def forward(self, x):\n",
    "        # HL1 with relu activation\n",
    "        out = self.sigmoid(self.layer1(x))\n",
    "        # HL2 with relu activation\n",
    "        out = self.sigmoid(self.layer2(out))\n",
    "        # HL3 with relu activation\n",
    "        out = self.sigmoid(self.layer3(out))\n",
    "        # Output layer with LogSoftmax activation\n",
    "        out = self.LogSoftmax(self.layer4(out))\n",
    "        return out"
   ]
  },
  {
   "cell_type": "code",
   "execution_count": 3,
   "metadata": {},
   "outputs": [],
   "source": [
    "model = NeuralNet(input_size, hidden_size, output_size)"
   ]
  },
  {
   "cell_type": "code",
   "execution_count": 4,
   "metadata": {},
   "outputs": [],
   "source": [
    "from torch import optim\n",
    "\n",
    "lossFunction = nn.NLLLoss()\n",
    "optimizer = optim.SGD(model.parameters(), lr=0.003, momentum=0.9)"
   ]
  },
  {
   "cell_type": "code",
   "execution_count": 5,
   "metadata": {},
   "outputs": [
    {
     "name": "stdout",
     "output_type": "stream",
     "text": [
      "Epoch0, Training loss:2.3035784209969203\n",
      "Epoch1, Training loss:2.302268038426381\n",
      "Epoch2, Training loss:2.301780857256989\n",
      "Epoch3, Training loss:2.3009479897362843\n",
      "Epoch4, Training loss:2.299919581108256\n",
      "Epoch5, Training loss:2.2980905598414734\n",
      "Epoch6, Training loss:2.294891651759524\n",
      "Epoch7, Training loss:2.2883533826514855\n",
      "Epoch8, Training loss:2.2667866828345034\n",
      "Epoch9, Training loss:2.1223608724344007\n"
     ]
    }
   ],
   "source": [
    "num_epochs = 10\n",
    "for epoch in range(num_epochs):\n",
    "    loss_ = 0\n",
    "    for images, labels in train_loader:\n",
    "        # Flatten the input images of [28,28] to [1,784]\n",
    "        images = images.reshape(-1, 784)\n",
    "\n",
    "        # Forward Pass\n",
    "        output = model(images)\n",
    "        # Loss at each oteration by comparing to target(label)\n",
    "        loss = lossFunction(output, labels)\n",
    "\n",
    "        # Backpropogating gradient of loss\n",
    "        optimizer.zero_grad()\n",
    "        loss.backward()\n",
    "\n",
    "        # Updating parameters(weights and bias)\n",
    "        optimizer.step()\n",
    "\n",
    "        loss_ += loss.item()\n",
    "    print(\"Epoch{}, Training loss:{}\".format(epoch, loss_ / len(train_loader)))"
   ]
  },
  {
   "cell_type": "code",
   "execution_count": 6,
   "metadata": {},
   "outputs": [
    {
     "name": "stdout",
     "output_type": "stream",
     "text": [
      "Testing accuracy: 40.6 %\n"
     ]
    }
   ],
   "source": [
    "with torch.no_grad():\n",
    "    correct = 0\n",
    "    total = 0\n",
    "    for images, labels in test_loader:\n",
    "        images = images.reshape(-1, 784)\n",
    "        out = model(images)\n",
    "        _, predicted = torch.max(out, 1)\n",
    "        total += labels.size(0)\n",
    "        correct += (predicted == labels).sum().item()\n",
    "    print('Testing accuracy: {} %'.format(100 * correct / total))"
   ]
  },
  {
   "cell_type": "code",
   "execution_count": null,
   "metadata": {},
   "outputs": [],
   "source": []
  }
 ],
 "metadata": {
  "kernelspec": {
   "display_name": "Python 3",
   "language": "python",
   "name": "python3"
  },
  "language_info": {
   "codemirror_mode": {
    "name": "ipython",
    "version": 3
   },
   "file_extension": ".py",
   "mimetype": "text/x-python",
   "name": "python",
   "nbconvert_exporter": "python",
   "pygments_lexer": "ipython3",
   "version": "3.7.7"
  }
 },
 "nbformat": 4,
 "nbformat_minor": 4
}
